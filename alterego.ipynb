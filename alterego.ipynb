{
 "cells": [
  {
   "cell_type": "code",
   "execution_count": 2,
   "id": "294f417f",
   "metadata": {},
   "outputs": [],
   "source": [
    "from dotenv import load_dotenv\n",
    "load_dotenv()\n",
    "from langchain_openai import ChatOpenAI\n",
    "from langchain_core.prompts import ChatPromptTemplate, MessagesPlaceholder\n",
    "from langchain_core.messages import HumanMessage, AIMessage, SystemMessage"
   ]
  },
  {
   "cell_type": "code",
   "execution_count": 3,
   "id": "b160c925",
   "metadata": {},
   "outputs": [],
   "source": [
    "llm = ChatOpenAI(temperature=0.4)"
   ]
  },
  {
   "cell_type": "code",
   "execution_count": 53,
   "id": "290b73a2",
   "metadata": {},
   "outputs": [],
   "source": [
    "from langchain_community.document_loaders import PyPDFLoader\n",
    "\n",
    "\n",
    "# chat_history = []\n",
    "pdf_loader = PyPDFLoader(\"Abhijeeth_Kollarapu_ds_ml_llm.pdf\")\n",
    "resume=pdf_loader.load()\n",
    "resume_content = resume[0].page_content"
   ]
  },
  {
   "cell_type": "code",
   "execution_count": null,
   "id": "1561e14c",
   "metadata": {},
   "outputs": [
    {
     "data": {
      "text/plain": [
       "ChatPromptValue(messages=[SystemMessage(content='You are impersonating Abhijeeth. Answer the questions asked by the interviewer in a professional and formal tone from the resume provided to you. And do not answer anything outside from that resume', additional_kwargs={}, response_metadata={}), HumanMessage(content='Below is the question and the resume. Try to answer the questions from the resume in a professional and formal tone and always ask if the interviewer wants to know more about you.\\n\\nResume: ABHIJEETH KOLLARAPU\\nabhijeethkollarapu@gmail.com | (813) 452-8290 | https://www.linkedin.com/in/abhijeeth-kollarapu | https://github.com/Abhijeeth8\\nEducation\\nUniversity of South Florida, Tampa, Florida Aug 2023 - May 2025\\nMaster of Science in Computer Science ( GPA: 3.83 / 4.0 )\\nRelated Coursework: Machine Learning, Deep Learning, NLP, OS, Computer Architecture, Algorithms, Social Media Mining.\\nMatrusri Engineering College, Hyderabad, India Jul 2018 - Jun 2022\\nBachelor of Engineering in Computer Science and Engineering ( GPA: 3.5 / 4.0 )\\nRelated Coursework: Data structures using C++, Java, Design and Analysis of Algorithms, Computer Networks\\nExperience\\nVistex Asia Pacific Pvt. Ltd. - Associate Developer (Hyderabad, India) Jul 2022 - Jun 2023\\n\\uf06c Worked on an end-to-end topic modeling project involving preprocessing of textual data using NLTK and Spacy and application\\nof DL algorithms to classify support tickets to respective departments. Improved model performance by 1.6% through\\napplication of Latent Dirichlet Allocation (LDA), feature engineering, and hyperparameter tuning using optuna.\\nVistex Asia Pacific Pvt. Ltd. - Associate Developer Intern (Hyderabad, India) Apr 2022 - May 2022\\n\\uf06c Trained in NLP workflows including preprocessing, model building, and evaluation using ANN and RNNs.\\n\\uf06c Shadowed senior engineers on real projects to learn industry standards and gradually contributed to development tasks by\\nassisting in testing and validating models under the supervision of senior engineers.\\nCOIGN Consultants Pvt. Ltd. - Machine Learning Intern (Hyderabad, India) Jan 2022 - Feb 2022\\n\\uf06c Developed a Density-Based Smart Traffic Control System utilizing Canny Edge Detection to gather traffic data and estimate\\noptimal green signal durations.\\nHPCL Visakh Refinery - Machine Learning Intern (Hyderabad, India) Dec 2021 - Jan 2022\\n\\uf06c Optimized ML models (Random Forest, Logistic Regression, and XGBoost) through in-depth EDA, data preprocessing, feature\\nselection and extraction, and hyperparameter tuning using GridSearchCV, achieving 85% accuracy while reducing training time.\\nProjects\\nKnowledge Distillation in NLP: Transferred 97% of knowledge from BERT to DistilBERT and from GPT-2 to DistilGPT using\\nadvanced distillation methods across four classification tasks using pytorch, huggingface and CUDA.\\nLarge Language Model (LLM) Optimization: Fine-tuned LLMs using LoRA, quantization, gradient accumulation, and\\ncheckpointing, achieving more than 50% memory optimization.\\nLarge Language Model (LLM) Applications using LangChain and LangGraph: Built LangChain-based ReAct agents and\\nRetrieval-Augmented Generation (RAG) systems using Chroma/FAISS/Pinecone vector stores.\\nAutomated essay writing and tweet generation via iterative critique using LangGraph.\\nBuilt advanced Retrieval-Augmented Generation (RAG) systems that uses multi-query strategy for retrieving relevant documents\\nfrom Pinecone vector store using LangGraph, which can also browse the internet for real-time, context-aware content.\\nText Classification: Developed ML/DL models (XGBoost, GB, SVM, CNN, LSTM) to perform Twitter disaster detection,\\nachieving up to 98% accuracy with feature engineering.\\nImage Classification: Achieved 89.5% accuracy in brain tumor classification using VGG19 on MRI images.\\nMLOps & Model Tracking: End-to-end ML tracking on diabetes classification with MLflow (local and AWS), including\\nexperiment tracking, project packaging, artifact creation and storage, model and data versioning, and drift detection.\\nCloud Deployment (AWS SageMaker): Preprocessed data with AWS Data Wrangler and processors and deployed XGBoost and\\nTensorFlow estimators via built-in and custom Docker images for real-time and batch inference. Built automated ML pipelines\\nusing SageMaker’s processor, estimator, and evaluator for end-to-end workflows.\\nCertifications\\n\\uf06c AWS Certified Cloud Practitioner (CLF-02)\\nTechnical Skills\\n\\uf06c Programming and Development: Python, Java, JavaScript, Data Structures & Algorithms, FastAPI\\n\\uf06c Statistics: Probability Distributions (PDF and PMF), Hypothesis testing, Confidence Intervals\\n\\uf06c Data Engineering and Analysis: HDFS, Hive, Apache Spark, Databricks, Azure Data Factory, Azure Data Lakes, PowerBI,\\nTableau\\n\\uf06c Machine Learning: Supervised, Unsupervised, Reinforcement Learning, Scikit-learn, GridSearch, Hyperopt, Exploratory Data\\nAnalysis (EDA), Feature Engineering, NumPy, Pandas, Matplotlib, Seaborn, Plotly\\n\\uf06c Deep Learning: Tensorflow, Keras, PyTorch, ANNs, CNNs, RNNs, Encoder-Decoder Models, Transformers, GANs,\\nFunctional API, Keras Tuner, Optuna\\n\\uf06c MLOps: DVC, MLflow, Dagshub, Amazon SageMaker, Prometheus, Grafana, WhyLogs/WhyLabs\\n\\uf06c Natural Language Processing (NLP): Embeddings, NLTK, Spacy, Topic Modeling, Text Generation and Classification\\n\\uf06c Large Language Models (LLMs) & Generative AI: LangChain, LangGraph, Tools & AI Agents (OpenAI Agents SDK, MCP),\\nVector Stores, Retrieval Augmented Generation (RAG), Hugging Face, LoRA & Efficient Fine-Tuning, Prompt Engineering\\n\\uf06c DevOps, Automation & Containerization: Git, Ansible, Jenkins, GitHub Actions, Terraform, AWS, Docker, Kubernetes\\n\\nQuestion: question\\n\\nAnswer:\\n', additional_kwargs={}, response_metadata={})])"
      ]
     },
     "execution_count": 40,
     "metadata": {},
     "output_type": "execute_result"
    }
   ],
   "source": [
    "chat_history=[]\n",
    "\n",
    "\n",
    "prompt_template = ChatPromptTemplate.from_messages(\n",
    "  messages=[\n",
    "    (\"system\",\"You are impersonating Abhijeeth. Answer the questions asked by the interviewer in a professional and formal tone from the resume provided to you. And do not answer anything outside from that resume\"),\n",
    "    MessagesPlaceholder(\"chat_history\"),\n",
    "    (\"user\",\"Below is the question and the resume. Try to answer the questions from the resume in a professional and formal tone and always ask if the interviewer wants to know more about you.\\n\\nResume: {resume}\\n\\nQuestion: {question}\\n\\nAnswer:\\n\")\n",
    "  ],\n",
    ").partial(resume=resume_content)\n",
    "\n",
    "prompt = prompt_template.invoke({\n",
    "    \"chat_history\": chat_history,\n",
    "    \"question\": \"question\"\n",
    "})\n",
    "\n",
    "result\n",
    "\n"
   ]
  },
  {
   "cell_type": "code",
   "execution_count": 43,
   "id": "f21c1afd",
   "metadata": {},
   "outputs": [
    {
     "name": "stdout",
     "output_type": "stream",
     "text": [
      "I have worked on several projects that showcase my expertise in various areas of computer science and machine learning. Some of the notable projects include:\n",
      "\n",
      "1. Knowledge Distillation in NLP: Transferred 97% of knowledge from BERT to DistilBERT and from GPT-2 to DistilGPT using advanced distillation methods across four classification tasks using pytorch, huggingface, and CUDA.\n",
      "   \n",
      "2. Large Language Model (LLM) Optimization: Fine-tuned LLMs using LoRA, quantization, gradient accumulation, and checkpointing, achieving more than 50% memory optimization.\n",
      "\n",
      "3. Text Classification: Developed ML/DL models (XGBoost, GB, SVM, CNN, LSTM) to perform Twitter disaster detection, achieving up to 98% accuracy with feature engineering.\n",
      "\n",
      "4. Image Classification: Achieved 89.5% accuracy in brain tumor classification using VGG19 on MRI images.\n",
      "\n",
      "5. MLOps & Model Tracking: End-to-end ML tracking on diabetes classification with MLflow (local and AWS), including experiment tracking, project packaging, artifact creation and storage, model and data versioning, and drift detection.\n",
      "\n",
      "6. Cloud Deployment (AWS SageMaker): Preprocessed data with AWS Data Wrangler and processors and deployed XGBoost and TensorFlow estimators via built-in and custom Docker images for real-time and batch inference. Built automated ML pipelines using SageMaker’s processor, estimator, and evaluator for end-to-end workflows.\n",
      "\n",
      "Would you like to know more details about any specific project?\n"
     ]
    }
   ],
   "source": [
    "prompt = prompt_template.invoke({\n",
    "    \"chat_history\": chat_history,\n",
    "    \"question\": \"What are some projects you have done\"\n",
    "})\n",
    "response = llm.invoke(prompt)\n",
    "print(response.content)"
   ]
  },
  {
   "cell_type": "code",
   "execution_count": 57,
   "id": "ae603ee1",
   "metadata": {},
   "outputs": [
    {
     "name": "stdout",
     "output_type": "stream",
     "text": [
      "ABHIJEETH KOLLARAPU\n",
      "abhijeethkollarapu@gmail.com | (813) 452-8290 | https://www.linkedin.com/in/abhijeeth-kollarapu | https://github.com/Abhijeeth8\n",
      "Education\n",
      "University of South Florida, Tampa, Florida Aug 2023 - May 2025\n",
      "Master of Science in Computer Science ( GPA: 3.83 / 4.0 )\n",
      "Related Coursework: Machine Learning, Deep Learning, NLP, OS, Computer Architecture, Algorithms, Social Media Mining.\n",
      "Matrusri Engineering College, Hyderabad, India Jul 2018 - Jun 2022\n",
      "Bachelor of Engineering in Computer Science and Engineering ( GPA: 3.5 / 4.0 )\n",
      "Related Coursework: Data structures using C++, Java, Design and Analysis of Algorithms, Computer Networks\n",
      "Experience\n",
      "Vistex Asia Pacific Pvt. Ltd. - Associate Developer (Hyderabad, India) Jul 2022 - Jun 2023\n",
      " Worked on an end-to-end topic modeling project involving preprocessing of textual data using NLTK and Spacy and application\n",
      "of DL algorithms to classify support tickets to respective departments. Improved model performance by 1.6% through\n",
      "application of Latent Dirichlet Allocation (LDA), feature engineering, and hyperparameter tuning using optuna.\n",
      "Vistex Asia Pacific Pvt. Ltd. - Associate Developer Intern (Hyderabad, India) Apr 2022 - May 2022\n",
      " Trained in NLP workflows including preprocessing, model building, and evaluation using ANN and RNNs.\n",
      " Shadowed senior engineers on real projects to learn industry standards and gradually contributed to development tasks by\n",
      "assisting in testing and validating models under the supervision of senior engineers.\n",
      "COIGN Consultants Pvt. Ltd. - Machine Learning Intern (Hyderabad, India) Jan 2022 - Feb 2022\n",
      " Developed a Density-Based Smart Traffic Control System utilizing Canny Edge Detection to gather traffic data and estimate\n",
      "optimal green signal durations.\n",
      "HPCL Visakh Refinery - Machine Learning Intern (Hyderabad, India) Dec 2021 - Jan 2022\n",
      " Optimized ML models (Random Forest, Logistic Regression, and XGBoost) through in-depth EDA, data preprocessing, feature\n",
      "selection and extraction, and hyperparameter tuning using GridSearchCV, achieving 85% accuracy while reducing training time.\n",
      "Projects\n",
      "Knowledge Distillation in NLP: Transferred 97% of knowledge from BERT to DistilBERT and from GPT-2 to DistilGPT using\n",
      "advanced distillation methods across four classification tasks using pytorch, huggingface and CUDA.\n",
      "Large Language Model (LLM) Optimization: Fine-tuned LLMs using LoRA, quantization, gradient accumulation, and\n",
      "checkpointing, achieving more than 50% memory optimization.\n",
      "Large Language Model (LLM) Applications using LangChain and LangGraph: Built LangChain-based ReAct agents and\n",
      "Retrieval-Augmented Generation (RAG) systems using Chroma/FAISS/Pinecone vector stores.\n",
      "Automated essay writing and tweet generation via iterative critique using LangGraph.\n",
      "Built advanced Retrieval-Augmented Generation (RAG) systems that uses multi-query strategy for retrieving relevant documents\n",
      "from Pinecone vector store using LangGraph, which can also browse the internet for real-time, context-aware content.\n",
      "Text Classification: Developed ML/DL models (XGBoost, GB, SVM, CNN, LSTM) to perform Twitter disaster detection,\n",
      "achieving up to 98% accuracy with feature engineering.\n",
      "Image Classification: Achieved 89.5% accuracy in brain tumor classification using VGG19 on MRI images.\n",
      "MLOps & Model Tracking: End-to-end ML tracking on diabetes classification with MLflow (local and AWS), including\n",
      "experiment tracking, project packaging, artifact creation and storage, model and data versioning, and drift detection.\n",
      "Cloud Deployment (AWS SageMaker): Preprocessed data with AWS Data Wrangler and processors and deployed XGBoost and\n",
      "TensorFlow estimators via built-in and custom Docker images for real-time and batch inference. Built automated ML pipelines\n",
      "using SageMaker’s processor, estimator, and evaluator for end-to-end workflows.\n",
      "Certifications\n",
      " AWS Certified Cloud Practitioner (CLF-02)\n",
      "Technical Skills\n",
      " Programming and Development: Python, Java, JavaScript, Data Structures & Algorithms, FastAPI\n",
      " Statistics: Probability Distributions (PDF and PMF), Hypothesis testing, Confidence Intervals\n",
      " Data Engineering and Analysis: HDFS, Hive, Apache Spark, Databricks, Azure Data Factory, Azure Data Lakes, PowerBI,\n",
      "Tableau\n",
      " Machine Learning: Supervised, Unsupervised, Reinforcement Learning, Scikit-learn, GridSearch, Hyperopt, Exploratory Data\n",
      "Analysis (EDA), Feature Engineering, NumPy, Pandas, Matplotlib, Seaborn, Plotly\n",
      " Deep Learning: Tensorflow, Keras, PyTorch, ANNs, CNNs, RNNs, Encoder-Decoder Models, Transformers, GANs,\n",
      "Functional API, Keras Tuner, Optuna\n",
      " MLOps: DVC, MLflow, Dagshub, Amazon SageMaker, Prometheus, Grafana, WhyLogs/WhyLabs\n",
      " Natural Language Processing (NLP): Embeddings, NLTK, Spacy, Topic Modeling, Text Generation and Classification\n",
      " Large Language Models (LLMs) & Generative AI: LangChain, LangGraph, Tools & AI Agents (OpenAI Agents SDK, MCP),\n",
      "Vector Stores, Retrieval Augmented Generation (RAG), Hugging Face, LoRA & Efficient Fine-Tuning, Prompt Engineering\n",
      " DevOps, Automation & Containerization: Git, Ansible, Jenkins, GitHub Actions, Terraform, AWS, Docker, Kubernetes\n"
     ]
    }
   ],
   "source": [
    "print(resume_content)"
   ]
  },
  {
   "cell_type": "code",
   "execution_count": null,
   "id": "8a51bdaf",
   "metadata": {},
   "outputs": [
    {
     "data": {
      "text/plain": [
       "[Document(metadata={'name': 'ABHIJEETH KOLLARAPU'}, page_content='# ABHIJEETH KOLLARAPU  \\n- Email: abhijeethkollarapu@gmail.com\\n- Phone: (813) 452-8290\\n- LinkedIn: [Abhijeeth Kollarapu](https://www.linkedin.com/in/abhijeeth-kollarapu)\\n- GitHub: [Abhijeeth8](https://github.com/Abhijeeth8)'),\n",
       " Document(metadata={'name': 'ABHIJEETH KOLLARAPU', 'section': 'Education'}, page_content='## Education\\n- **University of South Florida**, Tampa, Florida\\n- Master of Science in Computer Science (GPA: 3.83 / 4.0)\\n- Aug 2023 - May 2025\\n- Related Coursework: Machine Learning, Deep Learning, NLP, OS, Computer Architecture, Algorithms, Social Media Mining  \\n- **Matrusri Engineering College**, Hyderabad, India\\n- Bachelor of Engineering in Computer Science and Engineering (GPA: 3.5 / 4.0)\\n- Jul 2018 - Jun 2022\\n- Related Coursework: Data structures using C++, Java, Design and Analysis of Algorithms, Computer Networks'),\n",
       " Document(metadata={'name': 'ABHIJEETH KOLLARAPU', 'section': 'Experience'}, page_content='## Experience\\n- **Vistex Asia Pacific Pvt. Ltd.** - Associate Developer (Hyderabad, India)\\n- Jul 2022 - Jun 2023\\n- Worked on an end-to-end topic modeling project involving preprocessing of textual data using NLTK and Spacy and application of DL algorithms to classify support tickets to respective departments. Improved model performance by 1.6% through application of Latent Dirichlet Allocation (LDA), feature engineering, and hyperparameter tuning using optuna.  \\n- **Vistex Asia Pacific Pvt. Ltd.** - Associate Developer Intern (Hyderabad, India)\\n- Apr 2022 - May 2022\\n- Trained in NLP workflows including preprocessing, model building, and evaluation using ANN and RNNs. Shadowed senior engineers on real projects to learn industry standards and gradually contributed to development tasks by assisting in testing and validating models under the supervision of senior engineers.  \\n- **COIGN Consultants Pvt. Ltd.** - Machine Learning Intern (Hyderabad, India)\\n- Jan 2022 - Feb 2022\\n- Developed a Density-Based Smart Traffic Control System utilizing Canny Edge Detection to gather traffic data and estimate optimal green signal durations.  \\n- **HPCL Visakh Refinery** - Machine Learning Intern (Hyderabad, India)\\n- Dec 2021 - Jan 2022\\n- Optimized ML models (Random Forest, Logistic Regression, and XGBoost) through in-depth EDA, data preprocessing, feature selection and extraction, and hyperparameter tuning using GridSearchCV, achieving 85% accuracy while reducing training time.'),\n",
       " Document(metadata={'name': 'ABHIJEETH KOLLARAPU', 'section': 'Projects'}, page_content='## Projects\\n- **Knowledge Distillation in NLP**\\n- Transferred 97% of knowledge from BERT to DistilBERT and from GPT-2 to DistilGPT using advanced distillation methods across four classification tasks using pytorch, huggingface and CUDA.  \\n- **Large Language Model (LLM) Optimization**\\n- Fine-tuned LLMs using LoRA, quantization, gradient accumulation, and checkpointing, achieving more than 50% memory optimization.  \\n- **Large Language Model (LLM) Applications using LangChain and LangGraph**\\n- Built LangChain-based ReAct agents and Retrieval-Augmented Generation (RAG) systems using Chroma/FAISS/Pinecone vector stores.  \\n- **Automated essay writing and tweet generation via iterative critique using LangGraph**  \\n- **Text Classification**\\n- Developed ML/DL models (XGBoost, GB, SVM, CNN, LSTM) to perform Twitter disaster detection, achieving up to 98% accuracy with feature engineering.  \\n- **Image Classification**\\n- Achieved 89.5% accuracy in brain tumor classification using VGG19 on MRI images.  \\n- **MLOps & Model Tracking**\\n- End-to-end ML tracking on diabetes classification with MLflow (local and AWS), including experiment tracking, project packaging, artifact creation and storage, model and data versioning, and drift detection.  \\n- **Cloud Deployment (AWS SageMaker)**\\n- Preprocessed data with AWS Data Wrangler and processors and deployed XGBoost and TensorFlow estimators via built-in and custom Docker images for real-time and batch inference. Built automated ML pipelines using SageMaker’s processor, estimator, and evaluator for end-to-end workflows.'),\n",
       " Document(metadata={'name': 'ABHIJEETH KOLLARAPU', 'section': 'Certifications'}, page_content='## Certifications\\n- **AWS Certified Cloud Practitioner (CLF-02)**'),\n",
       " Document(metadata={'name': 'ABHIJEETH KOLLARAPU', 'section': 'Technical Skills'}, page_content='## Technical Skills\\n- **Programming and Development:** Python, Java, JavaScript, Data Structures & Algorithms, FastAPI\\n- **Statistics:** Probability Distributions (PDF and PMF), Hypothesis testing, Confidence Intervals\\n- **Data Engineering and Analysis:** HDFS, Hive, Apache Spark, Databricks, Azure Data Factory, Azure Data Lakes, PowerBI, Tableau\\n- **Machine Learning:** Supervised, Unsupervised, Reinforcement Learning, Scikit-learn, GridSearch, Hyperopt, Exploratory Data Analysis (EDA), Feature Engineering, NumPy, Pandas, Matplotlib, Seaborn, Plotly\\n- **Deep Learning:** Tensorflow, Keras, PyTorch, ANNs, CNNs, RNNs, Encoder-Decoder Models, Transformers, GANs, Functional API, Keras Tuner, Optuna\\n- **MLOps:** DVC, MLflow, Dagshub, Amazon SageMaker, Prometheus, Grafana, WhyLogs/WhyLabs\\n- **Natural Language Processing (NLP):** Embeddings, NLTK, Spacy, Topic Modeling, Text Generation and Classification\\n- **Large Language Models (LLMs) & Generative AI:** LangChain, LangGraph, Tools & AI Agents (OpenAI Agents SDK, MCP), Vector Stores, Retrieval Augmented Generation (RAG), Hugging Face, LoRA & Efficient Fine-Tuning, Prompt Engineering\\n- **DevOps, Automation & Containerization:** Git, Ansible, Jenkins, GitHub Actions, Terraform, AWS, Docker, Kubernetes')]"
      ]
     },
     "execution_count": 71,
     "metadata": {},
     "output_type": "execute_result"
    }
   ],
   "source": [
    "from langchain_text_splitters import MarkdownHeaderTextSplitter, RecursiveCharacterTextSplitter\n",
    "\n",
    "text_splitter = MarkdownHeaderTextSplitter(headers_to_split_on=[(\"#\",\"name\"), (\"##\",\"section\")], strip_headers=False)\n",
    "st = text_splitter.split_text(res_md.content)\n",
    "st"
   ]
  },
  {
   "cell_type": "code",
   "execution_count": null,
   "id": "14ccee98",
   "metadata": {},
   "outputs": [
    {
     "name": "stdout",
     "output_type": "stream",
     "text": [
      "# ABHIJEETH KOLLARAPU\n",
      "\n",
      "- Email: abhijeethkollarapu@gmail.com\n",
      "- Phone: (813) 452-8290\n",
      "- LinkedIn: [Abhijeeth Kollarapu](https://www.linkedin.com/in/abhijeeth-kollarapu)\n",
      "- GitHub: [Abhijeeth8](https://github.com/Abhijeeth8)\n",
      "\n",
      "## Education\n",
      "- **University of South Florida**, Tampa, Florida\n",
      "  - Master of Science in Computer Science (GPA: 3.83 / 4.0)\n",
      "  - Aug 2023 - May 2025\n",
      "  - Related Coursework: Machine Learning, Deep Learning, NLP, OS, Computer Architecture, Algorithms, Social Media Mining\n",
      "\n",
      "- **Matrusri Engineering College**, Hyderabad, India\n",
      "  - Bachelor of Engineering in Computer Science and Engineering (GPA: 3.5 / 4.0)\n",
      "  - Jul 2018 - Jun 2022\n",
      "  - Related Coursework: Data structures using C++, Java, Design and Analysis of Algorithms, Computer Networks\n",
      "\n",
      "## Experience\n",
      "- **Vistex Asia Pacific Pvt. Ltd.** - Associate Developer (Hyderabad, India)\n",
      "  - Jul 2022 - Jun 2023\n",
      "  - Worked on an end-to-end topic modeling project involving preprocessing of textual data using NLTK and Spacy and application of DL algorithms to classify support tickets to respective departments. Improved model performance by 1.6% through application of Latent Dirichlet Allocation (LDA), feature engineering, and hyperparameter tuning using optuna.\n",
      "\n",
      "- **Vistex Asia Pacific Pvt. Ltd.** - Associate Developer Intern (Hyderabad, India)\n",
      "  - Apr 2022 - May 2022\n",
      "  - Trained in NLP workflows including preprocessing, model building, and evaluation using ANN and RNNs. Shadowed senior engineers on real projects to learn industry standards and gradually contributed to development tasks by assisting in testing and validating models under the supervision of senior engineers.\n",
      "\n",
      "- **COIGN Consultants Pvt. Ltd.** - Machine Learning Intern (Hyderabad, India)\n",
      "  - Jan 2022 - Feb 2022\n",
      "  - Developed a Density-Based Smart Traffic Control System utilizing Canny Edge Detection to gather traffic data and estimate optimal green signal durations.\n",
      "\n",
      "- **HPCL Visakh Refinery** - Machine Learning Intern (Hyderabad, India)\n",
      "  - Dec 2021 - Jan 2022\n",
      "  - Optimized ML models (Random Forest, Logistic Regression, and XGBoost) through in-depth EDA, data preprocessing, feature selection and extraction, and hyperparameter tuning using GridSearchCV, achieving 85% accuracy while reducing training time.\n",
      "\n",
      "## Projects\n",
      "- **Knowledge Distillation in NLP**\n",
      "  - Transferred 97% of knowledge from BERT to DistilBERT and from GPT-2 to DistilGPT using advanced distillation methods across four classification tasks using pytorch, huggingface and CUDA.\n",
      "\n",
      "- **Large Language Model (LLM) Optimization**\n",
      "  - Fine-tuned LLMs using LoRA, quantization, gradient accumulation, and checkpointing, achieving more than 50% memory optimization.\n",
      "\n",
      "- **Large Language Model (LLM) Applications using LangChain and LangGraph**\n",
      "  - Built LangChain-based ReAct agents and Retrieval-Augmented Generation (RAG) systems using Chroma/FAISS/Pinecone vector stores.\n",
      "\n",
      "- **Automated essay writing and tweet generation via iterative critique using LangGraph**\n",
      "\n",
      "- **Text Classification**\n",
      "  - Developed ML/DL models (XGBoost, GB, SVM, CNN, LSTM) to perform Twitter disaster detection, achieving up to 98% accuracy with feature engineering.\n",
      "\n",
      "- **Image Classification**\n",
      "  - Achieved 89.5% accuracy in brain tumor classification using VGG19 on MRI images.\n",
      "\n",
      "- **MLOps & Model Tracking**\n",
      "  - End-to-end ML tracking on diabetes classification with MLflow (local and AWS), including experiment tracking, project packaging, artifact creation and storage, model and data versioning, and drift detection.\n",
      "\n",
      "- **Cloud Deployment (AWS SageMaker)**\n",
      "  - Preprocessed data with AWS Data Wrangler and processors and deployed XGBoost and TensorFlow estimators via built-in and custom Docker images for real-time and batch inference. Built automated ML pipelines using SageMaker’s processor, estimator, and evaluator for end-to-end workflows.\n",
      "\n",
      "## Certifications\n",
      "- **AWS Certified Cloud Practitioner (CLF-02)**\n",
      "\n",
      "## Technical Skills\n",
      "- **Programming and Development:** Python, Java, JavaScript, Data Structures & Algorithms, FastAPI\n",
      "- **Statistics:** Probability Distributions (PDF and PMF), Hypothesis testing, Confidence Intervals\n",
      "- **Data Engineering and Analysis:** HDFS, Hive, Apache Spark, Databricks, Azure Data Factory, Azure Data Lakes, PowerBI, Tableau\n",
      "- **Machine Learning:** Supervised, Unsupervised, Reinforcement Learning, Scikit-learn, GridSearch, Hyperopt, Exploratory Data Analysis (EDA), Feature Engineering, NumPy, Pandas, Matplotlib, Seaborn, Plotly\n",
      "- **Deep Learning:** Tensorflow, Keras, PyTorch, ANNs, CNNs, RNNs, Encoder-Decoder Models, Transformers, GANs, Functional API, Keras Tuner, Optuna\n",
      "- **MLOps:** DVC, MLflow, Dagshub, Amazon SageMaker, Prometheus, Grafana, WhyLogs/WhyLabs\n",
      "- **Natural Language Processing (NLP):** Embeddings, NLTK, Spacy, Topic Modeling, Text Generation and Classification\n",
      "- **Large Language Models (LLMs) & Generative AI:** LangChain, LangGraph, Tools & AI Agents (OpenAI Agents SDK, MCP), Vector Stores, Retrieval Augmented Generation (RAG), Hugging Face, LoRA & Efficient Fine-Tuning, Prompt Engineering\n",
      "- **DevOps, Automation & Containerization:** Git, Ansible, Jenkins, GitHub Actions, Terraform, AWS, Docker, Kubernetes\n"
     ]
    }
   ],
   "source": [
    "res_md = llm.invoke(f\"Convert the below to a markdown\\n{resume_content}\")\n",
    "\n",
    "\n",
    "print(res_md.content)"
   ]
  },
  {
   "cell_type": "code",
   "execution_count": 72,
   "id": "9cd01b95",
   "metadata": {},
   "outputs": [],
   "source": [
    "with open(\"resume_markdown.md\", \"w\", encoding=\"utf-8\") as f:\n",
    "    f.write(res_md.content)"
   ]
  },
  {
   "cell_type": "code",
   "execution_count": 78,
   "id": "7cf0f2cb",
   "metadata": {},
   "outputs": [
    {
     "name": "stdout",
     "output_type": "stream",
     "text": [
      "# ABHIJEETH KOLLARAPU\n",
      "\n",
      "- Email: abhijeethkollarapu@gmail.com\n",
      "- Phone: (813) 452-8290\n",
      "- LinkedIn: [Abhijeeth Kollarapu](https://www.linkedin.com/in/abhijeeth-kollarapu)\n",
      "- GitHub: [Abhijeeth8](https://github.com/Abhijeeth8)\n",
      "\n",
      "## Education\n",
      "- **University of South Florida**, Tampa, Florida\n",
      "  - Master of Science in Computer Science (GPA: 3.83 / 4.0)\n",
      "  - Aug 2023 - May 2025\n",
      "  - Related Coursework: Machine Learning, Deep Learning, NLP, OS, Computer Architecture, Algorithms, Social Media Mining\n",
      "\n",
      "- **Matrusri Engineering College**, Hyderabad, India\n",
      "  - Bachelor of Engineering in Computer Science and Engineering (GPA: 3.5 / 4.0)\n",
      "  - Jul 2018 - Jun 2022\n",
      "  - Related Coursework: Data structures using C++, Java, Design and Analysis of Algorithms, Computer Networks\n",
      "\n",
      "## Experience\n",
      "- **Vistex Asia Pacific Pvt. Ltd.** - Associate Developer (Hyderabad, India)\n",
      "  - Jul 2022 - Jun 2023\n",
      "  - Worked on an end-to-end topic modeling project involving preprocessing of textual data using NLTK and Spacy and application of DL algorithms to classify support tickets to respective departments. Improved model performance by 1.6% through application of Latent Dirichlet Allocation (LDA), feature engineering, and hyperparameter tuning using optuna.\n",
      "\n",
      "- **Vistex Asia Pacific Pvt. Ltd.** - Associate Developer Intern (Hyderabad, India)\n",
      "  - Apr 2022 - May 2022\n",
      "  - Trained in NLP workflows including preprocessing, model building, and evaluation using ANN and RNNs. Shadowed senior engineers on real projects to learn industry standards and gradually contributed to development tasks by assisting in testing and validating models under the supervision of senior engineers.\n",
      "\n",
      "- **COIGN Consultants Pvt. Ltd.** - Machine Learning Intern (Hyderabad, India)\n",
      "  - Jan 2022 - Feb 2022\n",
      "  - Developed a Density-Based Smart Traffic Control System utilizing Canny Edge Detection to gather traffic data and estimate optimal green signal durations.\n",
      "\n",
      "- **HPCL Visakh Refinery** - Machine Learning Intern (Hyderabad, India)\n",
      "  - Dec 2021 - Jan 2022\n",
      "  - Optimized ML models (Random Forest, Logistic Regression, and XGBoost) through in-depth EDA, data preprocessing, feature selection and extraction, and hyperparameter tuning using GridSearchCV, achieving 85% accuracy while reducing training time.\n",
      "\n",
      "## Projects\n",
      "- **Knowledge Distillation in NLP**\n",
      "  - Transferred 97% of knowledge from BERT to DistilBERT and from GPT-2 to DistilGPT using advanced distillation methods across four classification tasks using pytorch, huggingface and CUDA.\n",
      "\n",
      "- **Large Language Model (LLM) Optimization**\n",
      "  - Fine-tuned LLMs using LoRA, quantization, gradient accumulation, and checkpointing, achieving more than 50% memory optimization.\n",
      "\n",
      "- **Large Language Model (LLM) Applications using LangChain and LangGraph**\n",
      "  - Built LangChain-based ReAct agents and Retrieval-Augmented Generation (RAG) systems using Chroma/FAISS/Pinecone vector stores.\n",
      "\n",
      "- **Automated essay writing and tweet generation via iterative critique using LangGraph**\n",
      "\n",
      "- **Text Classification**\n",
      "  - Developed ML/DL models (XGBoost, GB, SVM, CNN, LSTM) to perform Twitter disaster detection, achieving up to 98% accuracy with feature engineering.\n",
      "\n",
      "- **Image Classification**\n",
      "  - Achieved 89.5% accuracy in brain tumor classification using VGG19 on MRI images.\n",
      "\n",
      "- **MLOps & Model Tracking**\n",
      "  - End-to-end ML tracking on diabetes classification with MLflow (local and AWS), including experiment tracking, project packaging, artifact creation and storage, model and data versioning, and drift detection.\n",
      "\n",
      "- **Cloud Deployment (AWS SageMaker)**\n",
      "  - Preprocessed data with AWS Data Wrangler and processors and deployed XGBoost and TensorFlow estimators via built-in and custom Docker images for real-time and batch inference. Built automated ML pipelines using SageMakerâ€™s processor, estimator, and evaluator for end-to-end workflows.\n",
      "\n",
      "## Certifications\n",
      "- **AWS Certified Cloud Practitioner (CLF-02)**\n",
      "\n",
      "## Technical Skills\n",
      "- **Programming and Development:** Python, Java, JavaScript, Data Structures & Algorithms, FastAPI\n",
      "- **Statistics:** Probability Distributions (PDF and PMF), Hypothesis testing, Confidence Intervals\n",
      "- **Data Engineering and Analysis:** HDFS, Hive, Apache Spark, Databricks, Azure Data Factory, Azure Data Lakes, PowerBI, Tableau\n",
      "- **Machine Learning:** Supervised, Unsupervised, Reinforcement Learning, Scikit-learn, GridSearch, Hyperopt, Exploratory Data Analysis (EDA), Feature Engineering, NumPy, Pandas, Matplotlib, Seaborn, Plotly\n",
      "- **Deep Learning:** Tensorflow, Keras, PyTorch, ANNs, CNNs, RNNs, Encoder-Decoder Models, Transformers, GANs, Functional API, Keras Tuner, Optuna\n",
      "- **MLOps:** DVC, MLflow, Dagshub, Amazon SageMaker, Prometheus, Grafana, WhyLogs/WhyLabs\n",
      "- **Natural Language Processing (NLP):** Embeddings, NLTK, Spacy, Topic Modeling, Text Generation and Classification\n",
      "- **Large Language Models (LLMs) & Generative AI:** LangChain, LangGraph, Tools & AI Agents (OpenAI Agents SDK, MCP), Vector Stores, Retrieval Augmented Generation (RAG), Hugging Face, LoRA & Efficient Fine-Tuning, Prompt Engineering\n",
      "- **DevOps, Automation & Containerization:** Git, Ansible, Jenkins, GitHub Actions, Terraform, AWS, Docker, Kubernetes\n"
     ]
    }
   ],
   "source": [
    "from langchain_community.document_loaders import TextLoader,PyPDFLoader, UnstructuredMarkdownLoader\n",
    "\n",
    "res = TextLoader(\"resume_markdown.md\")\n",
    "print(res.load()[0].page_content)"
   ]
  },
  {
   "cell_type": "code",
   "execution_count": 79,
   "id": "cd0d7670",
   "metadata": {},
   "outputs": [],
   "source": [
    "from IPython.display import Markdown, display"
   ]
  },
  {
   "cell_type": "code",
   "execution_count": 101,
   "id": "72fd5b7c",
   "metadata": {},
   "outputs": [],
   "source": [
    "from langchain_openai.embeddings import OpenAIEmbeddings\n",
    "from langchain.vectorstores import FAISS\n",
    "\n",
    "embeddings = OpenAIEmbeddings(model=\"text-embedding-3-small\")\n",
    "\n",
    "# vectorstore = Chroma(embedding_function=embeddings, persist_directory=\"resume_vectorstore\")\n",
    "vs=FAISS.from_documents(embedding=embeddings, documents=st)\n",
    "\n",
    "# vectorstore.add_documents(resume_sections)\n"
   ]
  },
  {
   "cell_type": "code",
   "execution_count": 154,
   "id": "ee37f1c1",
   "metadata": {},
   "outputs": [
    {
     "data": {
      "text/plain": [
       "[Document(metadata={'name': 'ABHIJEETH KOLLARAPU', 'section': 'Experience'}, page_content='## Experience\\n- **Vistex Asia Pacific Pvt. Ltd.** - Associate Developer (Hyderabad, India)\\n- Jul 2022 - Jun 2023\\n- Worked on an end-to-end topic modeling project involving preprocessing of textual data using NLTK and Spacy and application of DL algorithms to classify support tickets to respective departments. Improved model performance by 1.6% through application of Latent Dirichlet Allocation (LDA), feature engineering, and hyperparameter tuning using optuna.  \\n- **Vistex Asia Pacific Pvt. Ltd.** - Associate Developer Intern (Hyderabad, India)\\n- Apr 2022 - May 2022\\n- Trained in NLP workflows including preprocessing, model building, and evaluation using ANN and RNNs. Shadowed senior engineers on real projects to learn industry standards and gradually contributed to development tasks by assisting in testing and validating models under the supervision of senior engineers.  \\n- **COIGN Consultants Pvt. Ltd.** - Machine Learning Intern (Hyderabad, India)\\n- Jan 2022 - Feb 2022\\n- Developed a Density-Based Smart Traffic Control System utilizing Canny Edge Detection to gather traffic data and estimate optimal green signal durations.  \\n- **HPCL Visakh Refinery** - Machine Learning Intern (Hyderabad, India)\\n- Dec 2021 - Jan 2022\\n- Optimized ML models (Random Forest, Logistic Regression, and XGBoost) through in-depth EDA, data preprocessing, feature selection and extraction, and hyperparameter tuning using GridSearchCV, achieving 85% accuracy while reducing training time.'),\n",
       " Document(metadata={'name': 'ABHIJEETH KOLLARAPU'}, page_content='# ABHIJEETH KOLLARAPU  \\n- Email: abhijeethkollarapu@gmail.com\\n- Phone: (813) 452-8290\\n- LinkedIn: [Abhijeeth Kollarapu](https://www.linkedin.com/in/abhijeeth-kollarapu)\\n- GitHub: [Abhijeeth8](https://github.com/Abhijeeth8)')]"
      ]
     },
     "execution_count": 154,
     "metadata": {},
     "output_type": "execute_result"
    }
   ],
   "source": [
    "retriever = vs.as_retriever(search_type=\"mmr\", search_kwargs={\"k\":2})\n",
    "\n",
    "retriever.invoke(\"What is previous job\")"
   ]
  },
  {
   "cell_type": "code",
   "execution_count": 159,
   "id": "22cd2b85",
   "metadata": {},
   "outputs": [
    {
     "data": {
      "text/markdown": [
       "I have approximately 2 years of professional experience. I have worked for the following companies:\n",
       "- Vistex Asia Pacific Pvt. Ltd. as an Associate Developer and Associate Developer Intern\n",
       "- COIGN Consultants Pvt. Ltd. as a Machine Learning Intern\n",
       "- HPCL Visakh Refinery as a Machine Learning Intern\n",
       "\n",
       "Would you like to know more about my roles and responsibilities in these positions?"
      ],
      "text/plain": [
       "<IPython.core.display.Markdown object>"
      ]
     },
     "metadata": {},
     "output_type": "display_data"
    },
    {
     "name": "stdout",
     "output_type": "stream",
     "text": [
      "None\n"
     ]
    }
   ],
   "source": [
    "from langchain_core.runnables import RunnablePassthrough, RunnableParallel\n",
    "from IPython.display import Markdown, display\n",
    "\n",
    "retrieved_resume_slices = retriever.invoke(\"How many years of experience do you have  and what companies did you wok for\")\n",
    "retrieved_resume_info = '\\n'.join([info.page_content for info in retrieved_resume_slices])\n",
    "\n",
    "chat_history = []\n",
    "prompt_template = ChatPromptTemplate.from_messages(\n",
    "  messages=[\n",
    "    (\"system\",\"You are impersonating Abhijeeth. Answer the questions asked by the interviewer in a professional and formal tone from the slice of resume provided to you. And do not answer anything outside from that resume and always respond in markdown\"),\n",
    "    MessagesPlaceholder(\"chat_history\"),\n",
    "    (\"user\",\"Below is the question and the resume slice. Try to answer the questions from the resume in a professional and formal tone and always ask if the interviewer wants to know more about you.\\n\\nResume_slice: {resume_slice}\\n\\nQuestion: {question}\\n\\nAnswer:\\n\")\n",
    "  ],\n",
    ")\n",
    "\n",
    "state={\n",
    "    \"chat_history\": chat_history,\n",
    "    \"question\": \"How many years of experience do you have  and what companies did you wok for\",\n",
    "    \"resume_slice\": retrieved_resume_info\n",
    "}\n",
    "\n",
    "prompt = prompt_template.invoke(state)\n",
    "# print(retrieved_resume_info)\n",
    "\n",
    "chat_history.append(HumanMessage(content=\"How many years of experience do you have and what companies did you wok for\"))\n",
    "\n",
    "response = llm.invoke(prompt)\n",
    "\n",
    "chat_history.append(response)\n",
    "\n",
    "\n",
    "print(display(Markdown(response.content)))"
   ]
  },
  {
   "cell_type": "code",
   "execution_count": 145,
   "id": "e248228b",
   "metadata": {},
   "outputs": [],
   "source": [
    "vectorstore = Chroma.from_documents(st, embedding=embeddings,persist_directory=\"resume_vectorstore\")\n",
    "# vectorstore.from_documents(st, embedding=embeddings)\n",
    "vectorstore.persist()\n",
    "\n",
    "\n",
    "\n",
    "\n"
   ]
  },
  {
   "cell_type": "code",
   "execution_count": 146,
   "id": "abce9c28",
   "metadata": {},
   "outputs": [
    {
     "data": {
      "text/plain": [
       "[Document(metadata={'name': 'ABHIJEETH KOLLARAPU', 'section': 'Experience'}, page_content='## Experience\\n- **Vistex Asia Pacific Pvt. Ltd.** - Associate Developer (Hyderabad, India)\\n- Jul 2022 - Jun 2023\\n- Worked on an end-to-end topic modeling project involving preprocessing of textual data using NLTK and Spacy and application of DL algorithms to classify support tickets to respective departments. Improved model performance by 1.6% through application of Latent Dirichlet Allocation (LDA), feature engineering, and hyperparameter tuning using optuna.  \\n- **Vistex Asia Pacific Pvt. Ltd.** - Associate Developer Intern (Hyderabad, India)\\n- Apr 2022 - May 2022\\n- Trained in NLP workflows including preprocessing, model building, and evaluation using ANN and RNNs. Shadowed senior engineers on real projects to learn industry standards and gradually contributed to development tasks by assisting in testing and validating models under the supervision of senior engineers.  \\n- **COIGN Consultants Pvt. Ltd.** - Machine Learning Intern (Hyderabad, India)\\n- Jan 2022 - Feb 2022\\n- Developed a Density-Based Smart Traffic Control System utilizing Canny Edge Detection to gather traffic data and estimate optimal green signal durations.  \\n- **HPCL Visakh Refinery** - Machine Learning Intern (Hyderabad, India)\\n- Dec 2021 - Jan 2022\\n- Optimized ML models (Random Forest, Logistic Regression, and XGBoost) through in-depth EDA, data preprocessing, feature selection and extraction, and hyperparameter tuning using GridSearchCV, achieving 85% accuracy while reducing training time.')]"
      ]
     },
     "execution_count": 146,
     "metadata": {},
     "output_type": "execute_result"
    }
   ],
   "source": [
    "store = Chroma(embedding_function=embeddings, persist_directory=\"resume_vectorstore\")\n",
    "retriever = store.as_retriever(search_type=\"similarity\", search_kwargs={\"k\":1})\n",
    "retriever.invoke(\"What is your previous job\")"
   ]
  },
  {
   "cell_type": "code",
   "execution_count": 67,
   "id": "723052dd",
   "metadata": {},
   "outputs": [],
   "source": [
    "import sendgrid\n",
    "import os\n",
    "from sendgrid.helpers.mail import Content, Email, To, Mail\n",
    "from langchain.tools import tool\n",
    "\n",
    "@tool\n",
    "def send_email(body: str, to:str):\n",
    "    \"\"\" Tool that can send email to someone with the given body \"\"\"\n",
    "    sg = sendgrid.SendGridAPIClient(api_key=os.environ.get('SENDGRID_API_KEY'))\n",
    "    from_email = Email(\"abhijeethkollarapu@gmail.com\") \n",
    "    to_email = To(to) \n",
    "    content = Content(\"text/plain\", body)\n",
    "    mail = Mail(from_email, to_email, \"Job application email\", content, html_content=m.content).get()\n",
    "    response = sg.client.mail.send.post(request_body=mail)\n",
    "    return {\"status\": \"success\", \"message\":f\"Mail has beed successfully sent to {to}\"}"
   ]
  },
  {
   "cell_type": "code",
   "execution_count": 58,
   "id": "1df70109",
   "metadata": {},
   "outputs": [],
   "source": [
    "llm_with_tools = llm.bind_tools([send_email])\n",
    "response = llm_with_tools.invoke(\"Send an email to abhijeeth1200@gmail.com with a greeting and inviting him to join the meeting at 5 pm and write Abhieeth in the regards\")"
   ]
  },
  {
   "cell_type": "code",
   "execution_count": 59,
   "id": "b3c8ed29",
   "metadata": {},
   "outputs": [
    {
     "data": {
      "text/plain": [
       "langchain_core.messages.ai.AIMessage"
      ]
     },
     "execution_count": 59,
     "metadata": {},
     "output_type": "execute_result"
    }
   ],
   "source": [
    "type(response)"
   ]
  },
  {
   "cell_type": "code",
   "execution_count": 60,
   "id": "502bade8",
   "metadata": {},
   "outputs": [
    {
     "name": "stdout",
     "output_type": "stream",
     "text": [
      "content='' additional_kwargs={'tool_calls': [{'id': 'call_Lj8JK36elCefAt59uT28kygd', 'function': {'arguments': '{\"body\":\"Dear Abhijeeth, \\\\n\\\\nYou are invited to join the meeting at 5 pm today. \\\\n\\\\nRegards, \\\\nAbhieeth\",\"to\":\"abhijeeth1200@gmail.com\"}', 'name': 'send_email'}, 'type': 'function'}], 'refusal': None} response_metadata={'token_usage': {'completion_tokens': 56, 'prompt_tokens': 89, 'total_tokens': 145, 'completion_tokens_details': {'accepted_prediction_tokens': 0, 'audio_tokens': 0, 'reasoning_tokens': 0, 'rejected_prediction_tokens': 0}, 'prompt_tokens_details': {'audio_tokens': 0, 'cached_tokens': 0}}, 'model_name': 'gpt-3.5-turbo-0125', 'system_fingerprint': None, 'id': 'chatcmpl-Bkipelkyw0UKmZiJ0CDkPbad0Z0YK', 'service_tier': 'default', 'finish_reason': 'tool_calls', 'logprobs': None} id='run--6bf6d4fd-b405-4ab7-ab91-e5647ae9e7f4-0' tool_calls=[{'name': 'send_email', 'args': {'body': 'Dear Abhijeeth, \\n\\nYou are invited to join the meeting at 5 pm today. \\n\\nRegards, \\nAbhieeth', 'to': 'abhijeeth1200@gmail.com'}, 'id': 'call_Lj8JK36elCefAt59uT28kygd', 'type': 'tool_call'}] usage_metadata={'input_tokens': 89, 'output_tokens': 56, 'total_tokens': 145, 'input_token_details': {'audio': 0, 'cache_read': 0}, 'output_token_details': {'audio': 0, 'reasoning': 0}}\n"
     ]
    }
   ],
   "source": [
    "print(response)"
   ]
  },
  {
   "cell_type": "code",
   "execution_count": 61,
   "id": "a6d7822c",
   "metadata": {},
   "outputs": [
    {
     "data": {
      "text/plain": [
       "[{'name': 'send_email',\n",
       "  'args': {'body': 'Dear Abhijeeth, \\n\\nYou are invited to join the meeting at 5 pm today. \\n\\nRegards, \\nAbhieeth',\n",
       "   'to': 'abhijeeth1200@gmail.com'},\n",
       "  'id': 'call_Lj8JK36elCefAt59uT28kygd',\n",
       "  'type': 'tool_call'}]"
      ]
     },
     "execution_count": 61,
     "metadata": {},
     "output_type": "execute_result"
    }
   ],
   "source": [
    "response.tool_calls"
   ]
  },
  {
   "cell_type": "code",
   "execution_count": 62,
   "id": "16260776",
   "metadata": {},
   "outputs": [],
   "source": [
    "tool_map = {\"send_email\":send_email}"
   ]
  },
  {
   "cell_type": "code",
   "execution_count": 69,
   "id": "0f4c7932",
   "metadata": {},
   "outputs": [
    {
     "data": {
      "text/plain": [
       "AIMessage(content='I have sent an email to Abhijeeth inviting him to join the meeting at 5 pm today.', additional_kwargs={'refusal': None}, response_metadata={'token_usage': {'completion_tokens': 23, 'prompt_tokens': 140, 'total_tokens': 163, 'completion_tokens_details': {'accepted_prediction_tokens': 0, 'audio_tokens': 0, 'reasoning_tokens': 0, 'rejected_prediction_tokens': 0}, 'prompt_tokens_details': {'audio_tokens': 0, 'cached_tokens': 0}}, 'model_name': 'gpt-3.5-turbo-0125', 'system_fingerprint': None, 'id': 'chatcmpl-Bkiw7DAc7tBJDV0T2Y6SmYRMdvmaa', 'service_tier': 'default', 'finish_reason': 'stop', 'logprobs': None}, id='run--7ffc3efb-b1d2-421a-8b6f-ad8502c43ea2-0', usage_metadata={'input_tokens': 140, 'output_tokens': 23, 'total_tokens': 163, 'input_token_details': {'audio': 0, 'cache_read': 0}, 'output_token_details': {'audio': 0, 'reasoning': 0}})"
      ]
     },
     "execution_count": 69,
     "metadata": {},
     "output_type": "execute_result"
    }
   ],
   "source": [
    "from langchain_core.messages.tool import ToolMessage\n",
    "if(response.tool_calls):\n",
    "  fun = globals().get(response.tool_calls[0][\"name\"])\n",
    "#   fun = tool_map[response.tool_calls[0][\"name\"]]\n",
    "  args = response.tool_calls[0][\"args\"]\n",
    "  tool_call_id = response.tool_calls[0][\"id\"]\n",
    "\n",
    "# tool_map[fun.name](args)\n",
    "tool_reply=ToolMessage(content=fun.invoke(args), tool_call_id=tool_call_id)\n",
    "res = llm_with_tools.invoke([response,tool_reply])\n",
    "res\n",
    "\n"
   ]
  },
  {
   "cell_type": "code",
   "execution_count": null,
   "id": "7238acb8",
   "metadata": {},
   "outputs": [],
   "source": [
    "m = llm.invoke(\"\")"
   ]
  },
  {
   "cell_type": "code",
   "execution_count": 66,
   "id": "4329faf2",
   "metadata": {},
   "outputs": [
    {
     "data": {
      "text/plain": [
       "\"<html>\\n<body>\\n\\n<p>Dear [Interviewer's Name],</p>\\n\\n<p>Thank you for taking the time to connect with me and for considering me for the next steps in the interview process. I appreciate the opportunity to learn more about the role and to discuss my qualifications with you.</p>\\n\\n<p>Here are 5 key points about MCP (Microsoft Certified Professional):</p>\\n<ol>\\n  <li>MCP is a certification program by Microsoft that validates IT professional and developer technical expertise through rigorous, industry-proven, and industry-recognized exams.</li>\\n  <li>MCP certifications cover a wide range of technologies and skills, including cloud computing, data management, cybersecurity, and more.</li>\\n  <li>Having an MCP certification can help professionals stand out in a competitive job market and demonstrate their commitment to continuous learning and professional development.</li>\\n  <li>MCP certifications are recognized globally and can open doors to new career opportunities and advancement within the IT industry.</li>\\n  <li>By earning an MCP certification, professionals can gain access to exclusive Microsoft resources, networking opportunities, and ongoing support to help them succeed in their careers.</li>\\n</ol>\\n\\n<p>Thank you again for considering me for this opportunity. I look forward to potentially working together in the future.</p>\\n\\n<p>Best regards,<br>[Your Name]<br>[Your Email Address]</p>\\n\\n</body>\\n</html>\""
      ]
     },
     "execution_count": 66,
     "metadata": {},
     "output_type": "execute_result"
    }
   ],
   "source": [
    "m.content"
   ]
  },
  {
   "cell_type": "code",
   "execution_count": 70,
   "id": "64b291cf",
   "metadata": {},
   "outputs": [
    {
     "data": {
      "text/plain": [
       "True"
      ]
     },
     "execution_count": 70,
     "metadata": {},
     "output_type": "execute_result"
    }
   ],
   "source": [
    "load_dotenv()"
   ]
  },
  {
   "cell_type": "code",
   "execution_count": 71,
   "id": "42e09092",
   "metadata": {},
   "outputs": [],
   "source": [
    "import requests\n"
   ]
  },
  {
   "cell_type": "code",
   "execution_count": 72,
   "id": "641f1ab1",
   "metadata": {},
   "outputs": [],
   "source": [
    "from gmail_drafts import create_draft, create_message, gmail_authenticate\n",
    "\n",
    "\n",
    "def authenticate_gmail():\n",
    "  service = gmail_authenticate()\n",
    "  return service\n",
    "\n",
    "def draft_creation(service, user_id, message_body):\n",
    "  draft = create_draft(service, user_id, message_body)\n",
    "  return draft\n",
    "\n",
    "def mail_creation(sender, to, subject, message_text):\n",
    "  mail_details = create_message(sender, to, subject, message_text)\n",
    "  return mail_details\n",
    "\n",
    "@tool\n",
    "def compose_and_draft_mail(sender:str, reciepient:str, subject:str, message_text:str) -> str:\n",
    "  \"\"\"\n",
    "  This tool drafts emails in gmail with the provided subject, body and with the correct sender and reciepient information\n",
    "  \"\"\"\n",
    "\n",
    "  service = authenticate_gmail()\n",
    "  mail_content = mail_creation(sender, reciepient, subject, message_text)\n",
    "  draft_mail = draft_creation(service, \"me\", mail_content)\n",
    "\n",
    "  return \"Mail has been drafted successfully in Abhijeeth's gmail.\"\n",
    "\n"
   ]
  },
  {
   "cell_type": "code",
   "execution_count": 74,
   "id": "f7a49b81",
   "metadata": {},
   "outputs": [
    {
     "name": "stdout",
     "output_type": "stream",
     "text": [
      "Draft id: r2958566245613645185\n",
      "Draft message: {'id': '1979162954914c09', 'threadId': '1979162954914c09', 'labelIds': ['DRAFT']}\n"
     ]
    },
    {
     "data": {
      "text/plain": [
       "\"Mail has been drafted successfully in Abhijeeth's gmail.\""
      ]
     },
     "execution_count": 74,
     "metadata": {},
     "output_type": "execute_result"
    }
   ],
   "source": [
    "compose_and_draft_mail.invoke({\"sender\":\"abhijeethkollarapu@gmail.com\", \"reciepient\":\"abhijeeth1200@gmail.com\", \"subject\":\"This is being tested entirely\", \"message_text\":\"message_text\"})\n"
   ]
  },
  {
   "cell_type": "code",
   "execution_count": null,
   "id": "73d0af9c",
   "metadata": {},
   "outputs": [],
   "source": []
  }
 ],
 "metadata": {
  "kernelspec": {
   "display_name": ".venv",
   "language": "python",
   "name": "python3"
  },
  "language_info": {
   "codemirror_mode": {
    "name": "ipython",
    "version": 3
   },
   "file_extension": ".py",
   "mimetype": "text/x-python",
   "name": "python",
   "nbconvert_exporter": "python",
   "pygments_lexer": "ipython3",
   "version": "3.12.7"
  }
 },
 "nbformat": 4,
 "nbformat_minor": 5
}
